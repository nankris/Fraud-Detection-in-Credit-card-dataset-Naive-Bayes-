{
 "cells": [
  {
   "cell_type": "code",
   "execution_count": 2,
   "metadata": {},
   "outputs": [
    {
     "ename": "SyntaxError",
     "evalue": "EOF while scanning triple-quoted string literal (<ipython-input-2-de860c2e4db9>, line 19)",
     "output_type": "error",
     "traceback": [
      "\u001b[1;36m  File \u001b[1;32m\"<ipython-input-2-de860c2e4db9>\"\u001b[1;36m, line \u001b[1;32m19\u001b[0m\n\u001b[1;33m    print(df.info())\u001b[0m\n\u001b[1;37m                    \n^\u001b[0m\n\u001b[1;31mSyntaxError\u001b[0m\u001b[1;31m:\u001b[0m EOF while scanning triple-quoted string literal\n"
     ]
    }
   ],
   "source": [
    "import numpy as np\n",
    "import pandas as pd\n",
    "import matplotlib.pyplot as plt\n",
    "from sklearn.metrics import confusion_matrix,auc,roc_auc_score\n",
    "from sklearn.metrics import recall_score, precision_score, accuracy_score, f1_score\n",
    "# Data Handling: Load CSV\n",
    "df = pd.read_csv(\"../input/creditcard.csv\")\n",
    "\n",
    "# get to know list of features, data shape, stat. description.\n",
    "print(df.shape)\n",
    "\n",
    "print(\"First 5 lines:\")\n",
    "print(df.head(5))\n",
    "\n",
    "print(\"describe: \")\n",
    "print(df.describe())\n",
    "\n",
    "print(\"info: \")\n",
    "print(df.info())"
   ]
  },
  {
   "cell_type": "code",
   "execution_count": null,
   "metadata": {},
   "outputs": [],
   "source": [
    "\"\"\"Since all variables are of float and int type, so this data is easy to handle for modeling\"\"\"\n",
    "# Check Class variables that has 0 value for Genuine transactions and 1 for Fraud\n",
    "print(\"Class as pie chart:\")\n",
    "fig, ax = plt.subplots(1, 1)\n",
    "ax.pie(df.Class.value_counts(),autopct='%1.3f%%', labels=['Genuine','Fraud'], colors=['yellowgreen','r'])\n",
    "#plt.axis('equal')\n",
    "#plt.ylabel('')"
   ]
  },
  {
   "cell_type": "code",
   "execution_count": null,
   "metadata": {},
   "outputs": [],
   "source": [
    "#plot Time to see if there is any trend\n",
    "print(\"Time variable\")\n",
    "df[\"Time_Hr\"] = df[\"Time\"]/3600 # convert to hours #actually the time is in seconds\n",
    "print(df[\"Time_Hr\"].tail(5))\n",
    "plt.figure(figsize=(6,3))\n",
    "fig, (ax1, ax2) = plt.subplots(2, 1, sharex = True)\n",
    "# fig, (ax1, ax2) = plt.subplots(2, 1, sharex = True, figsize=(6,3)) \n",
    "ax1.hist(df.Time_Hr[df.Class==0],bins=48,color='g',alpha=0.5)\n",
    "ax1.set_title('Genuine')\n",
    "ax2.hist(df.Time_Hr[df.Class==1],bins=48,color='r',alpha=0.5)\n",
    "ax2.set_title('Fraud')\n",
    "plt.xlabel('Time (hrs)')\n",
    "plt.ylabel('# transactions')\n",
    "df = df.drop(['Time'],axis=1)"
   ]
  },
  {
   "cell_type": "code",
   "execution_count": null,
   "metadata": {},
   "outputs": [],
   "source": [
    "#let us check another feature Amount\n",
    "fig, (ax3,ax4) = plt.subplots(2,1, figsize = (6,3), sharex = True)\n",
    "ax3.hist(df.Amount[df.Class==0],bins=50,color='g',alpha=0.5)\n",
    "ax3.set_yscale('log') # to see the tails #if log is removed we can't see tails properly\n",
    "ax3.set_title('Genuine') # to see the tails\n",
    "ax3.set_ylabel('# transactions')\n",
    "ax4.hist(df.Amount[df.Class==1],bins=50,color='r',alpha=0.5)\n",
    "ax4.set_yscale('log') # to see the tails\n",
    "ax4.set_title('Fraud') # to see the tails\n",
    "ax4.set_xlabel('Amount ($)')\n",
    "ax4.set_ylabel('# transactions')\n",
    "from sklearn.preprocessing import StandardScaler\n",
    "SS=StandardScaler()\n",
    "SS.fit_transform(df['Amount'].values.reshape(-1,1)) #error of expected 2d array and you got 1d array if not done reshape(1,-1)\n",
    "#Now trying to keep column as unknown. New shape as (1,-1). i.e, row is 1, column unknown. we get result new shape as (1, 12)\n",
    "#http://rajeshmahajan.com/standard-scaler-v-min-max-scaler-machine-learning/\n",
    "from sklearn.preprocessing import StandardScaler\n",
    "df['scaled_Amount'] = StandardScaler().fit_transform(df['Amount'].values.reshape(-1,1))\n",
    "df = df.drop(['Amount'],axis=1)\n",
    "df.head()"
   ]
  },
  {
   "cell_type": "code",
   "execution_count": null,
   "metadata": {},
   "outputs": [],
   "source": [
    "#let us check correlations and shapes of those 25 principal components.\n",
    "# Features V1, V2, ... V28 are the principal components obtained with PCA.\n",
    "import seaborn as sns\n",
    "import matplotlib.gridspec as gridspec\n",
    "gs = gridspec.GridSpec(28, 1)\n",
    "plt.figure(figsize=(6,28*4))\n",
    "for i, col in enumerate(df[df.iloc[:,0:28].columns]):\n",
    "    ax5 = plt.subplot(gs[i])\n",
    "    sns.distplot(df[col][df.Class == 1], bins=50, color='r')\n",
    "    sns.distplot(df[col][df.Class == 0], bins=50, color='g')\n",
    "    ax5.set_xlabel('')\n",
    "    ax5.set_title('feature: ' + str(col))\n",
    "plt.show()\n",
    "def split_data(df, drop_list):\n",
    "    df = df.drop(drop_list,axis=1)\n",
    "    print(df.columns)\n",
    "    #test train split time\n",
    "    from sklearn.model_selection import train_test_split\n",
    "    y = df['Class'].values #target\n",
    "    X = df.drop(['Class'],axis=1).values #features\n",
    "    X_train, X_test, y_train, y_test = train_test_split(X, y, test_size=0.2,\n",
    "                                                    random_state=42, stratify=y)\n",
    "\n",
    "    print(\"train-set size: \", len(y_train),\n",
    "      \"\\ntest-set size: \", len(y_test))\n",
    "    print(\"fraud cases in test-set: \", sum(y_test))\n",
    "    return X_train, X_test, y_train, y_test"
   ]
  },
  {
   "cell_type": "code",
   "execution_count": null,
   "metadata": {},
   "outputs": [],
   "source": [
    "ef get_predictions(clf, X_train, y_train, X_test):\n",
    "    # create classifier\n",
    "    clf = clf\n",
    "    # fit it to training data\n",
    "    clf.fit(X_train,y_train)\n",
    "    # predict using test data\n",
    "    y_pred = clf.predict(X_test)\n",
    "    # Compute predicted probabilities: y_pred_prob\n",
    "    y_pred_prob = clf.predict_proba(X_test)\n",
    "    #for fun: train-set predictions\n",
    "    train_pred = clf.predict(X_train)\n",
    "    print('train-set confusion matrix:\\n', confusion_matrix(y_train,train_pred)) \n",
    "    return y_pred, y_pred_prob\n",
    "def print_scores(y_test,y_pred,y_pred_prob):\n",
    "    print('test-set confusion matrix:\\n', confusion_matrix(y_test,y_pred)) \n",
    "    print(\"recall score: \", recall_score(y_test,y_pred))\n",
    "    print(\"precision score: \", precision_score(y_test,y_pred))\n",
    "    print(\"f1 score: \", f1_score(y_test,y_pred))\n",
    "    print(\"accuracy score: \", accuracy_score(y_test,y_pred))\n",
    "    print(\"ROC AUC: {}\".format(roc_auc_score(y_test, y_pred_prob[:,1])))\n"
   ]
  },
  {
   "cell_type": "code",
   "execution_count": null,
   "metadata": {},
   "outputs": [],
   "source": [
    "from sklearn.naive_bayes import GaussianNB\n",
    "from sklearn.linear_model import LogisticRegression\n",
    "# Case-NB-1 : do not drop anything\n",
    "drop_list = []\n",
    "X_train, X_test, y_train, y_test = split_data(df, drop_list)\n",
    "y_pred, y_pred_prob = get_predictions(GaussianNB(), X_train, y_train, X_test)\n",
    "print_scores(y_test,y_pred,y_pred_prob)\n",
    "# Case-NB-2 : drop some of principle components that have similar distributions in above plots \n",
    "drop_list = ['V28','V27','V26','V25','V24','V23','V22','V20','V15','V13','V8']\n",
    "X_train, X_test, y_train, y_test = split_data(df, drop_list)\n",
    "y_pred, y_pred_prob = get_predictions(GaussianNB(), X_train, y_train, X_test)\n",
    "print_scores(y_test,y_pred,y_pred_prob)\n",
    "# Case-NB-3 : drop some of principle components + Time \n",
    "drop_list = ['Time_Hr','V28','V27','V26','V25','V24','V23','V22','V20','V15','V13','V8']\n",
    "X_train, X_test, y_train, y_test = split_data(df, drop_list)\n",
    "y_pred, y_pred_prob = get_predictions(GaussianNB(), X_train, y_train, X_test)\n",
    "print_scores(y_test,y_pred,y_pred_prob)\n",
    "# Case-NB-4 : drop some of principle components + Time + 'scaled_Amount'\n",
    "drop_list = ['scaled_Amount','Time_Hr','V28','V27','V26','V25','V24','V23','V22','V20','V15','V13','V8']\n",
    "X_train, X_test, y_train, y_test = split_data(df, drop_list)\n",
    "y_pred, y_pred_prob = get_predictions(GaussianNB(), X_train, y_train, X_test)\n",
    "print_scores(y_test,y_pred,y_pred_prob)\n",
    "df = df.drop(drop_list,axis=1)\n",
    "print(df.columns)"
   ]
  },
  {
   "cell_type": "code",
   "execution_count": null,
   "metadata": {},
   "outputs": [],
   "source": [
    "# let us check recall score for logistic regression\n",
    "# Case-LR-1\n",
    "y_pred, y_pred_prob = get_predictions(LogisticRegression(C = 0.01, penalty = 'l1')\n",
    "                                      , X_train, y_train, X_test)\n",
    "print_scores(y_test,y_pred,y_pred_prob)\n",
    "# get indices for fraud and genuine classes \n",
    "fraud_ind = np.array(df[df.Class == 1].index)\n",
    "gen_ind = df[df.Class == 0].index\n",
    "n_fraud = len(df[df.Class == 1])\n",
    "# random selection from genuine class\n",
    "random_gen_ind = np.random.choice(gen_ind, n_fraud, replace = False)\n",
    "random_gen_ind = np.array(random_gen_ind)\n",
    "# merge two class indices: random genuine + original fraud\n",
    "under_sample_ind = np.concatenate([fraud_ind,random_gen_ind])\n",
    "# Under sample dataset\n",
    "undersample_df = df.iloc[under_sample_ind,:]\n",
    "y_undersample  = undersample_df['Class'].values #target\n",
    "X_undersample = undersample_df.drop(['Class'],axis=1).values #features"
   ]
  },
  {
   "cell_type": "code",
   "execution_count": null,
   "metadata": {},
   "outputs": [],
   "source": [
    "print(\"# transactions in undersampled data: \", len(undersample_df))\n",
    "print(\"% genuine transactions: \",len(undersample_df[undersample_df.Class == 0])/len(undersample_df))\n",
    "print(\"% fraud transactions: \", sum(y_undersample)/len(undersample_df))\n",
    "# let us train logistic regression with undersamples data\n",
    "# Case-LR-2\n",
    "# split undersampled data into 80/20 train-test datasets. \n",
    "# - Train model from this 80% fraction of undersampled data, get predictions from left over i.e. 20%.\n",
    "drop_list = []\n",
    "X_und_train, X_und_test, y_und_train, y_und_test = split_data(undersample_df, drop_list)\n",
    "y_und_pred, y_und_pred_prob = get_predictions(LogisticRegression(C = 0.01, penalty = 'l1'), X_und_train, y_und_train, X_und_test)\n",
    "print_scores(y_und_test,y_und_pred,y_und_pred_prob)\n",
    "# Case-LR-3\n",
    "# \"train\" with undersamples, \"test\" with full data\n",
    "# call classifier\n",
    "lr = LogisticRegression(C = 0.01, penalty = 'l1')\n",
    "# fit it to complete undersampled data\n",
    "lr.fit(X_undersample, y_undersample)"
   ]
  },
  {
   "cell_type": "code",
   "execution_count": null,
   "metadata": {},
   "outputs": [],
   "source": [
    "# predict on full data\n",
    "y_full = df['Class'].values #target\n",
    "X_full = df.drop(['Class'],axis=1).values #features\n",
    "y_full_pred = lr.predict(X_full)\n",
    "# Compute predicted probabilities: y_pred_prob\n",
    "y_full_pred_prob = lr.predict_proba(X_full)\n",
    "print(\"scores for Full set\")   \n",
    "print('test-set confusion matrix:\\n', confusion_matrix(y_full,y_full_pred)) \n",
    "print(\"recall score: \", recall_score(y_full,y_full_pred))\n",
    "print(\"precision score: \", precision_score(y_full,y_full_pred))\n",
    "# Case-LR-4\n",
    "y_p20_pred = lr.predict(X_test)\n",
    "y_p20_pred_prob = lr.predict_proba(X_test)\n",
    "print(\"scores for test (20% of full) set\")   \n",
    "print('test-set confusion matrix:\\n', confusion_matrix(y_test,y_p20_pred)) \n",
    "print(\"recall score: \", recall_score(y_test,y_p20_pred))\n",
    "print(\"precision scwore: \", precision_score(y_test,y_p20_pred))"
   ]
  },
  {
   "cell_type": "code",
   "execution_count": null,
   "metadata": {},
   "outputs": [],
   "source": []
  },
  {
   "cell_type": "code",
   "execution_count": null,
   "metadata": {},
   "outputs": [],
   "source": []
  },
  {
   "cell_type": "code",
   "execution_count": null,
   "metadata": {},
   "outputs": [],
   "source": []
  }
 ],
 "metadata": {
  "kernelspec": {
   "display_name": "Python 3",
   "language": "python",
   "name": "python3"
  },
  "language_info": {
   "codemirror_mode": {
    "name": "ipython",
    "version": 3
   },
   "file_extension": ".py",
   "mimetype": "text/x-python",
   "name": "python",
   "nbconvert_exporter": "python",
   "pygments_lexer": "ipython3",
   "version": "3.6.4"
  }
 },
 "nbformat": 4,
 "nbformat_minor": 2
}
